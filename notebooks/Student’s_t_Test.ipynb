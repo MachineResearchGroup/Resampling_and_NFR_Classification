{
  "nbformat": 4,
  "nbformat_minor": 0,
  "metadata": {
    "colab": {
      "name": "Student’s t-Test.ipynb",
      "provenance": []
    },
    "kernelspec": {
      "name": "python3",
      "display_name": "Python 3"
    },
    "language_info": {
      "name": "python"
    }
  },
  "cells": [
    {
      "cell_type": "markdown",
      "metadata": {
        "id": "00WMT4PD9sa2"
      },
      "source": [
        "# **Student’s t-Test**"
      ]
    },
    {
      "cell_type": "code",
      "metadata": {
        "id": "HI0wWRPU7csN"
      },
      "source": [
        "from math import sqrt\n",
        "from numpy.random import seed\n",
        "from numpy.random import randn\n",
        "from numpy import mean\n",
        "from scipy.stats import sem\n",
        "from scipy.stats import t\n",
        "import pandas as pd"
      ],
      "execution_count": 1,
      "outputs": []
    },
    {
      "cell_type": "code",
      "metadata": {
        "colab": {
          "base_uri": "https://localhost:8080/"
        },
        "id": "VgpSsNYvJiUn",
        "outputId": "65b6650d-b7a5-4316-d8bd-8f541a94a825"
      },
      "source": [
        "from google.colab import drive\n",
        "drive.mount('/content/drive')\n",
        "path_drive = '/content/drive/MyDrive/PIBIC/results/'"
      ],
      "execution_count": 2,
      "outputs": [
        {
          "output_type": "stream",
          "text": [
            "Mounted at /content/drive\n"
          ],
          "name": "stdout"
        }
      ]
    },
    {
      "cell_type": "code",
      "metadata": {
        "id": "V1sqoaPh6yPS"
      },
      "source": [
        "def independent_ttest(data1, data2, alpha):\n",
        "\t# calculate means\n",
        "\tmean1, mean2 = mean(data1), mean(data2)\n",
        "\t# calculate standard errors\n",
        "\tse1, se2 = sem(data1), sem(data2)\n",
        "\t# standard error on the difference between the samples\n",
        "\tsed = sqrt(se1**2.0 + se2**2.0)\n",
        "\t# calculate the t statistic\n",
        "\tt_stat = (mean1 - mean2) / sed\n",
        "\t# degrees of freedom\n",
        "\tdf = len(data1) + len(data2) - 2\n",
        "\t# calculate the critical value\n",
        "\tcv = t.ppf(1.0 - alpha, df)\n",
        "\t# calculate the p-value\n",
        "\tp = (1.0 - t.cdf(abs(t_stat), df)) * 2.0\n",
        "\t# return everything\n",
        "\treturn t_stat, df, cv, p"
      ],
      "execution_count": 3,
      "outputs": []
    },
    {
      "cell_type": "code",
      "metadata": {
        "id": "KJTQlBgZBOaI"
      },
      "source": [
        "def csv_to_dict(filename, metric):\n",
        "  data = pd.read_csv(filename+'.csv')\n",
        "\n",
        "  adamax = data.loc[(data['Optimizer']=='adamax')][metric].values.tolist()\n",
        "  rmsprop = data.loc[(data['Optimizer']=='rmsprop')][metric].values.tolist()\n",
        "  adam = data.loc[(data['Optimizer']=='adam')][metric].values.tolist()\n",
        "                \n",
        "  return {'adamax':adamax, 'rmsprop':rmsprop, 'adam':adam}"
      ],
      "execution_count": 4,
      "outputs": []
    },
    {
      "cell_type": "code",
      "metadata": {
        "id": "urwteyhsGU4A"
      },
      "source": [
        "origin_dict = csv_to_dict(path_drive+'general_cv_mean(origin)', 'F1')\n",
        "\n",
        "def generate_hypothesis(values):\n",
        "  # seed the random number generator\n",
        "  seed(1)\n",
        "\n",
        "  algs = ['adamax', 'rmsprop', 'adam']\n",
        "\n",
        "  for alg in algs:\n",
        "    data1 = values[alg]\n",
        "    data2 = origin_dict[alg]\n",
        "\n",
        "    print(alg)\n",
        "    # calculate the t test\n",
        "    alpha = 0.05\n",
        "    t_stat, df, cv, p = independent_ttest(data1, data2, alpha)\n",
        "    print('t=%.3f, df=%d, cv=%.3f, p=%.3f' % (t_stat, df, cv, p))\n",
        "    # interpret via critical value\n",
        "    # if abs(t_stat) <= cv:\n",
        "    #   print('Accept null hypothesis that the means are equal.')\n",
        "    # else:\n",
        "    #   print('Reject the null hypothesis that the means are equal.')\n",
        "    # interpret via p-value\n",
        "    if p > alpha:\n",
        "      print('Accept null hypothesis that the means are equal.')\n",
        "    else:\n",
        "      print('Reject the null hypothesis that the means are equal.')"
      ],
      "execution_count": 15,
      "outputs": []
    },
    {
      "cell_type": "markdown",
      "metadata": {
        "id": "FTNoN4hf76L1"
      },
      "source": [
        "### **Tomek Hypothesis**"
      ]
    },
    {
      "cell_type": "code",
      "metadata": {
        "colab": {
          "base_uri": "https://localhost:8080/"
        },
        "id": "679VLQHD7RAF",
        "outputId": "1443068e-727c-4a3f-be66-26cb35bcc0d3"
      },
      "source": [
        "tomek_dict = csv_to_dict(path_drive+'general_cv_mean(tomek)', 'F1')\n",
        "generate_hypothesis(tomek_dict)"
      ],
      "execution_count": 16,
      "outputs": [
        {
          "output_type": "stream",
          "text": [
            "adamax\n",
            "t=11.459, df=18, cv=1.734, p=0.000\n",
            "Reject the null hypothesis that the means are equal.\n",
            "rmsprop\n",
            "t=11.054, df=18, cv=1.734, p=0.000\n",
            "Reject the null hypothesis that the means are equal.\n",
            "adam\n",
            "t=10.012, df=18, cv=1.734, p=0.000\n",
            "Reject the null hypothesis that the means are equal.\n"
          ],
          "name": "stdout"
        }
      ]
    },
    {
      "cell_type": "markdown",
      "metadata": {
        "id": "k-gGHimTG0zg"
      },
      "source": [
        "### **ADASYN Hypothesis**"
      ]
    },
    {
      "cell_type": "code",
      "metadata": {
        "colab": {
          "base_uri": "https://localhost:8080/"
        },
        "id": "0BfzfzxfG0zo",
        "outputId": "d433f802-0169-4fef-9ecf-58b0ec28c49c"
      },
      "source": [
        "adasyn_dict = csv_to_dict(path_drive+'general_cv_mean(adasyn)', 'F1')\n",
        "generate_hypothesis(adasyn_dict)"
      ],
      "execution_count": 7,
      "outputs": [
        {
          "output_type": "stream",
          "text": [
            "adamax\n",
            "t=11.829, df=18, cv=1.734, p=0.000\n",
            "Reject the null hypothesis that the means are equal.\n",
            "rmsprop\n",
            "t=8.475, df=18, cv=1.734, p=0.000\n",
            "Reject the null hypothesis that the means are equal.\n",
            "adam\n",
            "t=12.767, df=18, cv=1.734, p=0.000\n",
            "Reject the null hypothesis that the means are equal.\n"
          ],
          "name": "stdout"
        }
      ]
    },
    {
      "cell_type": "markdown",
      "metadata": {
        "id": "e8ympxrqHFQ3"
      },
      "source": [
        "### **SMOTE Hypothesis**"
      ]
    },
    {
      "cell_type": "code",
      "metadata": {
        "colab": {
          "base_uri": "https://localhost:8080/"
        },
        "id": "FVeqqxh1HFQ3",
        "outputId": "f580ff6f-c3c2-48b3-b34c-a5facbe1848b"
      },
      "source": [
        "smote_dict = csv_to_dict(path_drive+'general_cv_mean(smote)', 'F1')\n",
        "generate_hypothesis(smote_dict)"
      ],
      "execution_count": 8,
      "outputs": [
        {
          "output_type": "stream",
          "text": [
            "adamax\n",
            "t=9.469, df=18, cv=1.734, p=0.000\n",
            "Reject the null hypothesis that the means are equal.\n",
            "rmsprop\n",
            "t=9.760, df=18, cv=1.734, p=0.000\n",
            "Reject the null hypothesis that the means are equal.\n",
            "adam\n",
            "t=9.990, df=18, cv=1.734, p=0.000\n",
            "Reject the null hypothesis that the means are equal.\n"
          ],
          "name": "stdout"
        }
      ]
    },
    {
      "cell_type": "markdown",
      "metadata": {
        "id": "l0rX-6_oHSh6"
      },
      "source": [
        "### **BD-SMOTE Hypothesis**"
      ]
    },
    {
      "cell_type": "code",
      "metadata": {
        "colab": {
          "base_uri": "https://localhost:8080/"
        },
        "id": "Fv75UBS2HSh7",
        "outputId": "59e8eebb-3410-4e0f-e8c5-83ded2fcc974"
      },
      "source": [
        "bdsmote_dict = csv_to_dict(path_drive+'general_cv_mean(bdsmote)', 'F1')\n",
        "generate_hypothesis(bdsmote_dict)"
      ],
      "execution_count": 9,
      "outputs": [
        {
          "output_type": "stream",
          "text": [
            "adamax\n",
            "t=4.328, df=18, cv=1.734, p=0.000\n",
            "Reject the null hypothesis that the means are equal.\n",
            "rmsprop\n",
            "t=8.349, df=18, cv=1.734, p=0.000\n",
            "Reject the null hypothesis that the means are equal.\n",
            "adam\n",
            "t=5.335, df=18, cv=1.734, p=0.000\n",
            "Reject the null hypothesis that the means are equal.\n"
          ],
          "name": "stdout"
        }
      ]
    },
    {
      "cell_type": "markdown",
      "metadata": {
        "id": "eMazqv42HcKp"
      },
      "source": [
        "### **SMOTE-TL Hypothesis**"
      ]
    },
    {
      "cell_type": "code",
      "metadata": {
        "colab": {
          "base_uri": "https://localhost:8080/"
        },
        "id": "_FBSc346HcKr",
        "outputId": "d19cd973-cefb-4580-9a0c-63c1fe00ac48"
      },
      "source": [
        "smotetomek_dict = csv_to_dict(path_drive+'general_cv_mean(smotetomek)', 'F1')\n",
        "generate_hypothesis(smotetomek_dict)"
      ],
      "execution_count": 10,
      "outputs": [
        {
          "output_type": "stream",
          "text": [
            "adamax\n",
            "t=8.132, df=18, cv=1.734, p=0.000\n",
            "Reject the null hypothesis that the means are equal.\n",
            "rmsprop\n",
            "t=6.322, df=18, cv=1.734, p=0.000\n",
            "Reject the null hypothesis that the means are equal.\n",
            "adam\n",
            "t=8.517, df=18, cv=1.734, p=0.000\n",
            "Reject the null hypothesis that the means are equal.\n"
          ],
          "name": "stdout"
        }
      ]
    },
    {
      "cell_type": "markdown",
      "metadata": {
        "id": "BEb1as2P66g1"
      },
      "source": [
        "## **Referências**"
      ]
    },
    {
      "cell_type": "markdown",
      "metadata": {
        "id": "9Clko2KF68a1"
      },
      "source": [
        "https://machinelearningmastery.com/how-to-code-the-students-t-test-from-scratch-in-python/\n",
        "\n",
        "https://towardsdatascience.com/inferential-statistics-series-t-test-using-numpy-2718f8f9bf2f"
      ]
    }
  ]
}